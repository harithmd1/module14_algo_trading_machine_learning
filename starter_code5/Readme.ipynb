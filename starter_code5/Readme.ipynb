{
 "cells": [
  {
   "cell_type": "code",
   "execution_count": null,
   "metadata": {},
   "outputs": [],
   "source": []
  },
  {
   "cell_type": "markdown",
   "metadata": {},
   "source": [
    "# Module 14 / Algorithm Trading using Machine Learning SVM versus Decision Tree Classifier \n",
    "\n",
    "1. SVM produced better returns than the original returns.\n",
    "2. Tuning the learning time for SVM to 6 months rather than 3 months produced better returns.\n",
    "3. Tuning the moving average windows up from short window 4 to 30 and long window 100 to 200 produced less accuracy and lower returns for the SVM.\n",
    "4. Tuning the moving average windows down from long window 100 to 50 while keeping short window 4 produced less acuuracy and lower returns for the SVM.\n",
    "5. Tuning the moving average windows up for both the short 4 to 10 and long 100 to 150 produced better accuracy but same returns.\n",
    "6. Best adjustement for better results came from keeping same training windows short ma at 4 and long ma at 100 but increasing the training time from 3 to 6 months for the svm.\n",
    "7. Adding a different Machine Learning with Decission Tree Classifier produced less accuracy but better returns than both the SVM strategy and the actula returns."
   ]
  }
 ],
 "metadata": {
  "language_info": {
   "name": "python"
  }
 },
 "nbformat": 4,
 "nbformat_minor": 2
}
